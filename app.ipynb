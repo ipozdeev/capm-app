{
 "cells": [
  {
   "cell_type": "code",
   "execution_count": 6,
   "metadata": {},
   "outputs": [],
   "source": [
    "import pandas as pd\n",
    "import yfinance as yf\n",
    "import ipywidgets as widgets\n",
    "from ipywidgets import interact\n",
    "import statsmodels.api as sm\n",
    "import seaborn as sns\n",
    "import warnings\n",
    "\n",
    "from src.datafeed import get_data\n",
    "\n",
    "sns.set_style(\"whitegrid\")\n",
    "warnings.filterwarnings('ignore')"
   ]
  },
  {
   "cell_type": "code",
   "execution_count": 7,
   "metadata": {},
   "outputs": [
    {
     "name": "stdout",
     "output_type": "stream",
     "text": [
      "                AAPL        CVX        DAL  GM          GS        JPM  \\\n",
      "Date                                                                    \n",
      "2010-01-04  6.478997  45.479145   9.917485 NaN  137.658157  29.852793   \n",
      "2010-01-05  6.490200  45.801273  10.695327 NaN  140.091843  30.431046   \n",
      "2010-01-06  6.386964  45.807030  10.704165 NaN  138.596649  30.598246   \n",
      "2010-01-07  6.375158  45.634449  11.216832 NaN  141.308762  31.204363   \n",
      "2010-01-08  6.417541  45.714996  11.022376 NaN  138.636368  31.127739   \n",
      "\n",
      "                  LUV       MSFT        SPY  TSLA        XOM        SP500  \n",
      "Date                                                                       \n",
      "2010-01-04  10.143021  23.474915  87.483231   NaN  40.611740  1132.989990  \n",
      "2010-01-05  10.678296  23.482513  87.714783   NaN  40.770309  1136.520020  \n",
      "2010-01-06  10.360757  23.338396  87.776543   NaN  41.122684  1137.140015  \n",
      "2010-01-07  10.514990  23.095684  88.147095   NaN  40.993492  1141.689941  \n",
      "2010-01-08  10.279104  23.254965  88.440407   NaN  40.829033  1144.979980  \n"
     ]
    }
   ],
   "source": [
    "# get prices until today\n",
    "today = pd.Timestamp(\"now\").strftime(\"%Y-%m-%d\")\n",
    "price = get_data(today)\n",
    "\n",
    "print(price.head())  # Display the first few rows of the DataFrame\n"
   ]
  },
  {
   "cell_type": "code",
   "execution_count": 8,
   "metadata": {},
   "outputs": [],
   "source": [
    "# average returns\n",
    "mu = price.pct_change().dropna().mean().rename(\"mu\") * 252 * 100"
   ]
  },
  {
   "cell_type": "code",
   "execution_count": 9,
   "metadata": {},
   "outputs": [],
   "source": [
    "# main app\n",
    "# Dropdown widget for frequency selection\n",
    "frequency_selector = widgets.Dropdown(\n",
    "    options=[('1 day', '1D'), ('1 month', '1M'), ('1 year', '1Y')],\n",
    "    value='1D',\n",
    "    description='Frequency:',\n",
    ")"
   ]
  },
  {
   "cell_type": "code",
   "execution_count": 11,
   "metadata": {},
   "outputs": [
    {
     "data": {
      "text/plain": [
       "'Sample from 2010-01-01 to 2023-11-27'"
      ]
     },
     "metadata": {},
     "output_type": "display_data"
    },
    {
     "data": {
      "application/vnd.jupyter.widget-view+json": {
       "model_id": "147b5b13b3e24f8197ee3f0509c50e0e",
       "version_major": 2,
       "version_minor": 0
      },
      "text/plain": [
       "interactive(children=(Dropdown(description='Frequency:', index=2, options=(('1 day', '1D'), ('1 month', '1M'),…"
      ]
     },
     "metadata": {},
     "output_type": "display_data"
    }
   ],
   "source": [
    "display(f\"Sample from 2010-01-01 to {today}\")\n",
    "\n",
    "@interact\n",
    "def app(frequency=frequency_selector):\n",
    "    \"\"\"\"\"\"\n",
    "    r = price.resample(frequency).last().pct_change().dropna()\n",
    "    x = sm.add_constant(r.pop(\"SP500\"))\n",
    "\n",
    "    # ols betas\n",
    "    beta = {}\n",
    "    for _c_name, _c in r.items():\n",
    "        beta[_c_name] = sm.OLS(endog=_c, exog=x, missing=\"drop\")\\\n",
    "            .fit().params[1]\n",
    "    \n",
    "    beta = pd.Series(beta, name=\"beta\")\n",
    "    to_plot = pd.concat((beta, mu), axis=1)\n",
    "\n",
    "    sns.regplot(data=to_plot, x=\"beta\", y=\"mu\", ci=None)\n",
    "        "
   ]
  }
 ],
 "metadata": {
  "kernelspec": {
   "display_name": "capm-app",
   "language": "python",
   "name": "python3"
  },
  "language_info": {
   "codemirror_mode": {
    "name": "ipython",
    "version": 3
   },
   "file_extension": ".py",
   "mimetype": "text/x-python",
   "name": "python",
   "nbconvert_exporter": "python",
   "pygments_lexer": "ipython3",
   "version": "3.11.3"
  }
 },
 "nbformat": 4,
 "nbformat_minor": 2
}
